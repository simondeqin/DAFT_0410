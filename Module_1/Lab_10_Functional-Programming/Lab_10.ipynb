{
 "cells": [
  {
   "cell_type": "code",
   "execution_count": null,
   "id": "d55c445e",
   "metadata": {},
   "outputs": [],
   "source": [
    "# DESCRIPTION:\n",
    "\n",
    "# Consider an array/list of sheep where some sheep may be missing from their place. We need a function that counts the number of sheep present in the array (true means present).\n",
    "\n",
    "#For example, ...\n",
    "# he correct answer would be 17.\n",
    "\n",
    "# Hint: Don't forget to check for bad values like null/undefined\n"
   ]
  },
  {
   "cell_type": "code",
   "execution_count": 12,
   "id": "bd2dee70",
   "metadata": {},
   "outputs": [
    {
     "name": "stdout",
     "output_type": "stream",
     "text": [
      "The number of sheep present is  17\n"
     ]
    }
   ],
   "source": [
    "lst_sheep = [True,  True,  True,  False,\n",
    "  True,  True,  True,  True ,\n",
    "  True,  False, True,  False,\n",
    "  True,  False, False, True ,\n",
    "  True,  True,  True,  True ,\n",
    "  False, False, True,  True]\n",
    "\n",
    "def countfunc(lst):\n",
    "    number = 0\n",
    "    for x in lst:\n",
    "        if x == True:\n",
    "            number += 1\n",
    "    return number\n",
    "\n",
    "print('The number of sheep present is ', countfunc(lst_sheep))\n",
    "        "
   ]
  },
  {
   "cell_type": "code",
   "execution_count": 11,
   "id": "e12da47c",
   "metadata": {},
   "outputs": [
    {
     "name": "stdout",
     "output_type": "stream",
     "text": [
      "The number of sheep present is  3\n"
     ]
    }
   ],
   "source": [
    "lst_sheep = [True,  True,  True,  False,\n",
    "  True,  True,  True,  True ,\n",
    "  True,  False, True,  False,\n",
    "  True,  False, False, True ,\n",
    "  True,  True,  True,  True ,\n",
    "  False, False, True,  True]\n",
    "\n",
    "def countfunc(lst):\n",
    "    x = 0\n",
    "    number = 0\n",
    "    while lst[x] == True:\n",
    "        number += 1\n",
    "        x += 1\n",
    "    else:\n",
    "        x += 1\n",
    "    return number\n",
    "\n",
    "print('The number of sheep present is ', countfunc(lst_sheep))\n",
    "        "
   ]
  }
 ],
 "metadata": {
  "kernelspec": {
   "display_name": "Python 3 (ipykernel)",
   "language": "python",
   "name": "python3"
  },
  "language_info": {
   "codemirror_mode": {
    "name": "ipython",
    "version": 3
   },
   "file_extension": ".py",
   "mimetype": "text/x-python",
   "name": "python",
   "nbconvert_exporter": "python",
   "pygments_lexer": "ipython3",
   "version": "3.9.13"
  }
 },
 "nbformat": 4,
 "nbformat_minor": 5
}
