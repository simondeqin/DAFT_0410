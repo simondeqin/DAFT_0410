{
 "cells": [
  {
   "cell_type": "code",
   "execution_count": null,
   "id": "a8930278",
   "metadata": {},
   "outputs": [],
   "source": [
    "# DESCRIPTION:\n",
    "\n",
    "# Consider an array/list of sheep where some sheep may be missing from their place. We need a function that counts the number of sheep present in the array (true means present).\n",
    "\n",
    "#For example, ...\n",
    "# he correct answer would be 17.\n",
    "\n",
    "# Hint: Don't forget to check for bad values like null/undefined\n"
   ]
  },
  {
   "cell_type": "code",
   "execution_count": null,
   "id": "ca13adf8",
   "metadata": {},
   "outputs": [],
   "source": [
    "[true,  true,  true,  false,\n",
    "  true,  true,  true,  true ,\n",
    "  true,  false, true,  false,\n",
    "  true,  false, false, true ,\n",
    "  true,  true,  true,  true ,\n",
    "  false, false, true,  true]"
   ]
  },
  {
   "cell_type": "code",
   "execution_count": null,
   "id": "ee13d2a4",
   "metadata": {},
   "outputs": [],
   "source": [
    "def "
   ]
  }
 ],
 "metadata": {
  "kernelspec": {
   "display_name": "Python 3 (ipykernel)",
   "language": "python",
   "name": "python3"
  },
  "language_info": {
   "codemirror_mode": {
    "name": "ipython",
    "version": 3
   },
   "file_extension": ".py",
   "mimetype": "text/x-python",
   "name": "python",
   "nbconvert_exporter": "python",
   "pygments_lexer": "ipython3",
   "version": "3.9.13"
  }
 },
 "nbformat": 4,
 "nbformat_minor": 5
}
