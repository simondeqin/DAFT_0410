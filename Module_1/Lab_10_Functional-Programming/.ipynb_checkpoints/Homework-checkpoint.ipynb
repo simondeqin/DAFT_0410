{
 "cells": [
  {
   "cell_type": "markdown",
   "id": "07188cd7",
   "metadata": {},
   "source": [
    "## Task 1"
   ]
  },
  {
   "cell_type": "code",
   "execution_count": 16,
   "id": "e84aaee1",
   "metadata": {},
   "outputs": [],
   "source": [
    "\n",
    "\n",
    "# DESCRIPTION:\n",
    "\n",
    "# Consider an array/list of sheep where some sheep may be missing from their place. We need a function that counts the number of sheep present in the array (true means present).\n",
    "\n",
    "#For example, ...\n",
    "# he correct answer would be 17.\n",
    "\n",
    "# Hint: Don't forget to check for bad values like null/undefined\n"
   ]
  },
  {
   "cell_type": "code",
   "execution_count": 12,
   "id": "c7878bee",
   "metadata": {},
   "outputs": [
    {
     "name": "stdout",
     "output_type": "stream",
     "text": [
      "The number of sheep present is  17\n"
     ]
    }
   ],
   "source": [
    "lst_sheep = [True,  True,  True,  False,\n",
    "  True,  True,  True,  True ,\n",
    "  True,  False, True,  False,\n",
    "  True,  False, False, True ,\n",
    "  True,  True,  True,  True ,\n",
    "  False, False, True,  True]\n",
    "\n",
    "def countfunc(lst):\n",
    "    number = 0\n",
    "    for x in lst:\n",
    "        if x == True:\n",
    "            number += 1\n",
    "    return number\n",
    "\n",
    "print('The number of sheep present is ', countfunc(lst_sheep))\n",
    "        "
   ]
  },
  {
   "cell_type": "code",
   "execution_count": 11,
   "id": "50f69f7c",
   "metadata": {},
   "outputs": [
    {
     "name": "stdout",
     "output_type": "stream",
     "text": [
      "The number of sheep present is  3\n"
     ]
    }
   ],
   "source": [
    "# Unsuccessful try\n",
    "\n",
    "lst_sheep = [True,  True,  True,  False,\n",
    "  True,  True,  True,  True ,\n",
    "  True,  False, True,  False,\n",
    "  True,  False, False, True ,\n",
    "  True,  True,  True,  True ,\n",
    "  False, False, True,  True]\n",
    "\n",
    "def countfunc(lst):\n",
    "    x = 0\n",
    "    number = 0\n",
    "    while lst[x] == True:\n",
    "        number += 1\n",
    "        x += 1\n",
    "    else:\n",
    "        x += 1\n",
    "    return number\n",
    "\n",
    "print('The number of sheep present is ', countfunc(lst_sheep))\n",
    "        "
   ]
  },
  {
   "cell_type": "code",
   "execution_count": null,
   "id": "9caccea6",
   "metadata": {},
   "outputs": [],
   "source": [
    "# DESCRIPTION:\n",
    "\n",
    "# Take an array and remove every second element from the array. Always keep the first element and start removing with the next element.\n",
    "\n",
    "# Example:\n",
    "\n",
    "# [\"Keep\", \"Remove\", \"Keep\", \"Remove\", \"Keep\", ...] --> [\"Keep\", \"Keep\", \"Keep\", ...]\n",
    "\n",
    "# None of the arrays will be empty, so you don't have to worry about that!"
   ]
  },
  {
   "cell_type": "markdown",
   "id": "44841c61",
   "metadata": {},
   "source": [
    "## Task 2"
   ]
  },
  {
   "cell_type": "code",
   "execution_count": 7,
   "id": "54247898",
   "metadata": {},
   "outputs": [
    {
     "data": {
      "text/plain": [
       "['Keep', 'Keep', 'Keep', 'Keep']"
      ]
     },
     "execution_count": 7,
     "metadata": {},
     "output_type": "execute_result"
    }
   ],
   "source": [
    "keep_lst = [\"Keep\", \"Remove\", \"Keep\", \"Remove\", \"Keep\", \"Remove\", \"Keep\", \"Remove\"]\n",
    "\n",
    "def remove(lst):\n",
    "    lst_new = lst[::2]\n",
    "    return lst_new\n",
    "\n",
    "remove(keep_lst)"
   ]
  },
  {
   "cell_type": "markdown",
   "id": "c11f9c6f",
   "metadata": {},
   "source": [
    "## Task 3"
   ]
  },
  {
   "cell_type": "code",
   "execution_count": null,
   "id": "aad3a90d",
   "metadata": {},
   "outputs": [],
   "source": [
    "# Convert number to reversed array of digits\n",
    "\n",
    "# Given a random non-negative number, you have to return the digits of this number within an array in reverse order.\n",
    "\n",
    "# Example(Input => Output):\n",
    "\n",
    "# 35231 => [1,3,2,5,3]\n",
    "# 0 => [0]"
   ]
  },
  {
   "cell_type": "code",
   "execution_count": 25,
   "id": "107ab8ec",
   "metadata": {},
   "outputs": [
    {
     "ename": "IndentationError",
     "evalue": "expected an indented block (3558160479.py, line 4)",
     "output_type": "error",
     "traceback": [
      "\u001b[0;36m  File \u001b[0;32m\"/var/folders/2s/stq13gpd5bgc21frj934ykp80000gs/T/ipykernel_16855/3558160479.py\"\u001b[0;36m, line \u001b[0;32m4\u001b[0m\n\u001b[0;31m    def digitize(number):\u001b[0m\n\u001b[0m    ^\u001b[0m\n\u001b[0;31mIndentationError\u001b[0m\u001b[0;31m:\u001b[0m expected an indented block\n"
     ]
    }
   ],
   "source": [
    "# solution 1\n",
    "number = str(input('Please enter a non-negative number: '))\n",
    "def digitize(number):\n",
    "def digitize(number):\n",
    "    return [int(x) for x in str(number)[::-1]]"
   ]
  },
  {
   "cell_type": "code",
   "execution_count": 8,
   "id": "b6de8b70",
   "metadata": {},
   "outputs": [
    {
     "name": "stdout",
     "output_type": "stream",
     "text": [
      "Please enter a non-negative number: 14507\n",
      "['7', '0', '5', '4', '1']\n"
     ]
    }
   ],
   "source": [
    "# solution 2\n",
    "number = str(input('Please enter a non-negative number: '))\n",
    "def reverse(number_string):\n",
    "    lst = []\n",
    "    for i in range(len(number_string)):\n",
    "        lst.append(number_string[i])\n",
    "        lst_reverse = lst[::-1]\n",
    "    return lst_reverse\n",
    "\n",
    "print(reverse(number))"
   ]
  },
  {
   "cell_type": "markdown",
   "id": "0ec005f9",
   "metadata": {},
   "source": [
    "## Task 4"
   ]
  },
  {
   "cell_type": "code",
   "execution_count": null,
   "id": "eff46a14",
   "metadata": {},
   "outputs": [],
   "source": [
    "# Welcome. In this kata, you are asked to square every digit of a number and concatenate them.\n",
    "\n",
    "# For example, if we run 9119 through the function, 811181 will come out, because 92 is 81 and 12 is 1. (81-1-1-81)\n",
    "\n",
    "# Example #2: An input of 765 will/should return 493625 because 72 is 49, 62 is 36, and 52 is 25. (49-36-25)\n",
    "\n",
    "# Note: The function accepts an integer and returns an integer.\n"
   ]
  },
  {
   "cell_type": "code",
   "execution_count": 18,
   "id": "2343c59b",
   "metadata": {},
   "outputs": [
    {
     "name": "stdout",
     "output_type": "stream",
     "text": [
      "Please enter an interger: 9119\n"
     ]
    },
    {
     "data": {
      "text/plain": [
       "811181"
      ]
     },
     "execution_count": 18,
     "metadata": {},
     "output_type": "execute_result"
    }
   ],
   "source": [
    "number_string = str(input('Please enter an interger: '))\n",
    "\n",
    "def squared():\n",
    "    number_string\n",
    "    lst = []\n",
    "    for i in range(len(number_string)):\n",
    "         i2 = number_string[i]\n",
    "         i3 = int(i2)\n",
    "         i4 = i3**2\n",
    "         i5 = str(i4)\n",
    "         lst.append(i5)\n",
    "    number_squared = int(\"\".join(lst))                  \n",
    "    return number_squared\n",
    "        \n",
    "squared()\n",
    "\n",
    "        \n",
    "        \n",
    "    "
   ]
  }
 ],
 "metadata": {
  "kernelspec": {
   "display_name": "Python 3 (ipykernel)",
   "language": "python",
   "name": "python3"
  },
  "language_info": {
   "codemirror_mode": {
    "name": "ipython",
    "version": 3
   },
   "file_extension": ".py",
   "mimetype": "text/x-python",
   "name": "python",
   "nbconvert_exporter": "python",
   "pygments_lexer": "ipython3",
   "version": "3.9.13"
  }
 },
 "nbformat": 4,
 "nbformat_minor": 5
}
