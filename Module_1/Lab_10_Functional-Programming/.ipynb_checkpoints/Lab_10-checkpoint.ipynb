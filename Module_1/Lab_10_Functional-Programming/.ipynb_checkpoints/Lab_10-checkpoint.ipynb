{
 "cells": [
  {
   "cell_type": "markdown",
   "id": "77131aca",
   "metadata": {},
   "source": [
    "## Task 1"
   ]
  },
  {
   "cell_type": "code",
   "execution_count": 16,
   "id": "25a30301",
   "metadata": {},
   "outputs": [],
   "source": [
    "\n",
    "\n",
    "# DESCRIPTION:\n",
    "\n",
    "# Consider an array/list of sheep where some sheep may be missing from their place. We need a function that counts the number of sheep present in the array (true means present).\n",
    "\n",
    "#For example, ...\n",
    "# he correct answer would be 17.\n",
    "\n",
    "# Hint: Don't forget to check for bad values like null/undefined\n"
   ]
  },
  {
   "cell_type": "code",
   "execution_count": 12,
   "id": "f4e5ee6f",
   "metadata": {},
   "outputs": [
    {
     "name": "stdout",
     "output_type": "stream",
     "text": [
      "The number of sheep present is  17\n"
     ]
    }
   ],
   "source": [
    "lst_sheep = [True,  True,  True,  False,\n",
    "  True,  True,  True,  True ,\n",
    "  True,  False, True,  False,\n",
    "  True,  False, False, True ,\n",
    "  True,  True,  True,  True ,\n",
    "  False, False, True,  True]\n",
    "\n",
    "def countfunc(lst):\n",
    "    number = 0\n",
    "    for x in lst:\n",
    "        if x == True:\n",
    "            number += 1\n",
    "    return number\n",
    "\n",
    "print('The number of sheep present is ', countfunc(lst_sheep))\n",
    "        "
   ]
  },
  {
   "cell_type": "code",
   "execution_count": 11,
   "id": "fb4d1725",
   "metadata": {},
   "outputs": [
    {
     "name": "stdout",
     "output_type": "stream",
     "text": [
      "The number of sheep present is  3\n"
     ]
    }
   ],
   "source": [
    "# Unsuccessful try\n",
    "\n",
    "lst_sheep = [True,  True,  True,  False,\n",
    "  True,  True,  True,  True ,\n",
    "  True,  False, True,  False,\n",
    "  True,  False, False, True ,\n",
    "  True,  True,  True,  True ,\n",
    "  False, False, True,  True]\n",
    "\n",
    "def countfunc(lst):\n",
    "    x = 0\n",
    "    number = 0\n",
    "    while lst[x] == True:\n",
    "        number += 1\n",
    "        x += 1\n",
    "    else:\n",
    "        x += 1\n",
    "    return number\n",
    "\n",
    "print('The number of sheep present is ', countfunc(lst_sheep))\n",
    "        "
   ]
  },
  {
   "cell_type": "code",
   "execution_count": null,
   "id": "b6a06b64",
   "metadata": {},
   "outputs": [],
   "source": [
    "# DESCRIPTION:\n",
    "\n",
    "# Take an array and remove every second element from the array. Always keep the first element and start removing with the next element.\n",
    "\n",
    "# Example:\n",
    "\n",
    "# [\"Keep\", \"Remove\", \"Keep\", \"Remove\", \"Keep\", ...] --> [\"Keep\", \"Keep\", \"Keep\", ...]\n",
    "\n",
    "# None of the arrays will be empty, so you don't have to worry about that!"
   ]
  },
  {
   "cell_type": "markdown",
   "id": "1ac0bc7f",
   "metadata": {},
   "source": [
    "## Task 2"
   ]
  },
  {
   "cell_type": "code",
   "execution_count": 1,
   "id": "1f979fc6",
   "metadata": {},
   "outputs": [
    {
     "ename": "IndexError",
     "evalue": "list index out of range",
     "output_type": "error",
     "traceback": [
      "\u001b[0;31m---------------------------------------------------------------------------\u001b[0m",
      "\u001b[0;31mIndexError\u001b[0m                                Traceback (most recent call last)",
      "\u001b[0;32m/var/folders/2s/stq13gpd5bgc21frj934ykp80000gs/T/ipykernel_17386/1481594934.py\u001b[0m in \u001b[0;36m<module>\u001b[0;34m\u001b[0m\n\u001b[1;32m      7\u001b[0m     \u001b[0;32mreturn\u001b[0m \u001b[0mlst\u001b[0m\u001b[0;34m\u001b[0m\u001b[0;34m\u001b[0m\u001b[0m\n\u001b[1;32m      8\u001b[0m \u001b[0;34m\u001b[0m\u001b[0m\n\u001b[0;32m----> 9\u001b[0;31m \u001b[0mremove\u001b[0m\u001b[0;34m(\u001b[0m\u001b[0mkeeplst\u001b[0m\u001b[0;34m)\u001b[0m\u001b[0;34m\u001b[0m\u001b[0;34m\u001b[0m\u001b[0m\n\u001b[0m",
      "\u001b[0;32m/var/folders/2s/stq13gpd5bgc21frj934ykp80000gs/T/ipykernel_17386/1481594934.py\u001b[0m in \u001b[0;36mremove\u001b[0;34m(lst)\u001b[0m\n\u001b[1;32m      4\u001b[0m     \u001b[0;32mfor\u001b[0m \u001b[0mx\u001b[0m \u001b[0;32min\u001b[0m \u001b[0mrange\u001b[0m\u001b[0;34m(\u001b[0m\u001b[0mlen\u001b[0m\u001b[0;34m(\u001b[0m\u001b[0mlst\u001b[0m\u001b[0;34m)\u001b[0m\u001b[0;34m)\u001b[0m\u001b[0;34m:\u001b[0m\u001b[0;34m\u001b[0m\u001b[0;34m\u001b[0m\u001b[0m\n\u001b[1;32m      5\u001b[0m         \u001b[0;32mif\u001b[0m \u001b[0mx\u001b[0m\u001b[0;34m%\u001b[0m\u001b[0;36m2\u001b[0m \u001b[0;34m!=\u001b[0m \u001b[0;36m0\u001b[0m\u001b[0;34m:\u001b[0m\u001b[0;34m\u001b[0m\u001b[0;34m\u001b[0m\u001b[0m\n\u001b[0;32m----> 6\u001b[0;31m             \u001b[0mlst\u001b[0m\u001b[0;34m.\u001b[0m\u001b[0mremove\u001b[0m\u001b[0;34m(\u001b[0m\u001b[0mlst\u001b[0m\u001b[0;34m[\u001b[0m\u001b[0mx\u001b[0m\u001b[0;34m]\u001b[0m\u001b[0;34m)\u001b[0m\u001b[0;34m\u001b[0m\u001b[0;34m\u001b[0m\u001b[0m\n\u001b[0m\u001b[1;32m      7\u001b[0m     \u001b[0;32mreturn\u001b[0m \u001b[0mlst\u001b[0m\u001b[0;34m\u001b[0m\u001b[0;34m\u001b[0m\u001b[0m\n\u001b[1;32m      8\u001b[0m \u001b[0;34m\u001b[0m\u001b[0m\n",
      "\u001b[0;31mIndexError\u001b[0m: list index out of range"
     ]
    }
   ],
   "source": [
    "keeplst = [\"Keep\", \"Remove\", \"Keep\", \"Remove\", \"Keep\", \"Remove\", \"Keep\", \"Remove\"]\n",
    "\n",
    "def remove(lst):\n",
    "    for x in range(len(lst)):\n",
    "        if x%2 != 0:\n",
    "            lst.remove(lst[x])\n",
    "    return lst\n",
    "\n",
    "remove(keeplst)"
   ]
  },
  {
   "cell_type": "markdown",
   "id": "41da0261",
   "metadata": {},
   "source": [
    "## Task 3"
   ]
  },
  {
   "cell_type": "code",
   "execution_count": null,
   "id": "744b7c64",
   "metadata": {},
   "outputs": [],
   "source": [
    "# Convert number to reversed array of digits\n",
    "\n",
    "# Given a random non-negative number, you have to return the digits of this number within an array in reverse order.\n",
    "\n",
    "# Example(Input => Output):\n",
    "\n",
    "# 35231 => [1,3,2,5,3]\n",
    "# 0 => [0]"
   ]
  },
  {
   "cell_type": "code",
   "execution_count": 25,
   "id": "4aede674",
   "metadata": {},
   "outputs": [
    {
     "ename": "IndentationError",
     "evalue": "expected an indented block (3558160479.py, line 4)",
     "output_type": "error",
     "traceback": [
      "\u001b[0;36m  File \u001b[0;32m\"/var/folders/2s/stq13gpd5bgc21frj934ykp80000gs/T/ipykernel_16855/3558160479.py\"\u001b[0;36m, line \u001b[0;32m4\u001b[0m\n\u001b[0;31m    def digitize(number):\u001b[0m\n\u001b[0m    ^\u001b[0m\n\u001b[0;31mIndentationError\u001b[0m\u001b[0;31m:\u001b[0m expected an indented block\n"
     ]
    }
   ],
   "source": [
    "# solution 1\n",
    "number = str(input('Please enter a non-negative number: '))\n",
    "def digitize(number):\n",
    "def digitize(number):\n",
    "    return [int(x) for x in str(number)[::-1]]"
   ]
  },
  {
   "cell_type": "code",
   "execution_count": 24,
   "id": "3222240d",
   "metadata": {},
   "outputs": [
    {
     "name": "stdout",
     "output_type": "stream",
     "text": [
      "Please enter a non-negative number: 321\n"
     ]
    },
    {
     "ename": "UnboundLocalError",
     "evalue": "local variable 'i' referenced before assignment",
     "output_type": "error",
     "traceback": [
      "\u001b[0;31m---------------------------------------------------------------------------\u001b[0m",
      "\u001b[0;31mUnboundLocalError\u001b[0m                         Traceback (most recent call last)",
      "\u001b[0;32m/var/folders/2s/stq13gpd5bgc21frj934ykp80000gs/T/ipykernel_16855/2995825339.py\u001b[0m in \u001b[0;36m<module>\u001b[0;34m\u001b[0m\n\u001b[1;32m      6\u001b[0m     \u001b[0;32mreturn\u001b[0m\u001b[0;34m\u001b[0m\u001b[0;34m\u001b[0m\u001b[0m\n\u001b[1;32m      7\u001b[0m \u001b[0;34m\u001b[0m\u001b[0m\n\u001b[0;32m----> 8\u001b[0;31m \u001b[0mreverse\u001b[0m\u001b[0;34m(\u001b[0m\u001b[0mnumber\u001b[0m\u001b[0;34m)\u001b[0m\u001b[0;34m\u001b[0m\u001b[0;34m\u001b[0m\u001b[0m\n\u001b[0m",
      "\u001b[0;32m/var/folders/2s/stq13gpd5bgc21frj934ykp80000gs/T/ipykernel_16855/2995825339.py\u001b[0m in \u001b[0;36mreverse\u001b[0;34m(lst)\u001b[0m\n\u001b[1;32m      2\u001b[0m \u001b[0;32mdef\u001b[0m \u001b[0mreverse\u001b[0m\u001b[0;34m(\u001b[0m\u001b[0mlst\u001b[0m\u001b[0;34m)\u001b[0m\u001b[0;34m:\u001b[0m\u001b[0;34m\u001b[0m\u001b[0;34m\u001b[0m\u001b[0m\n\u001b[1;32m      3\u001b[0m     \u001b[0mlst\u001b[0m \u001b[0;34m=\u001b[0m \u001b[0;34m[\u001b[0m\u001b[0;34m]\u001b[0m\u001b[0;34m\u001b[0m\u001b[0;34m\u001b[0m\u001b[0m\n\u001b[0;32m----> 4\u001b[0;31m     \u001b[0;32mfor\u001b[0m \u001b[0mi\u001b[0m \u001b[0;32min\u001b[0m \u001b[0mrange\u001b[0m\u001b[0;34m(\u001b[0m\u001b[0mlen\u001b[0m\u001b[0;34m(\u001b[0m\u001b[0mi\u001b[0m\u001b[0;34m)\u001b[0m\u001b[0;34m)\u001b[0m\u001b[0;34m:\u001b[0m\u001b[0;34m\u001b[0m\u001b[0;34m\u001b[0m\u001b[0m\n\u001b[0m\u001b[1;32m      5\u001b[0m         \u001b[0mlst\u001b[0m\u001b[0;34m.\u001b[0m\u001b[0mappend\u001b[0m\u001b[0;34m(\u001b[0m\u001b[0mnumber\u001b[0m\u001b[0;34m[\u001b[0m\u001b[0mi\u001b[0m\u001b[0;34m]\u001b[0m\u001b[0;34m)\u001b[0m\u001b[0;34m\u001b[0m\u001b[0;34m\u001b[0m\u001b[0m\n\u001b[1;32m      6\u001b[0m     \u001b[0;32mreturn\u001b[0m\u001b[0;34m\u001b[0m\u001b[0;34m\u001b[0m\u001b[0m\n",
      "\u001b[0;31mUnboundLocalError\u001b[0m: local variable 'i' referenced before assignment"
     ]
    }
   ],
   "source": [
    "# solution 2\n",
    "number = str(input('Please enter a non-negative number: '))\n",
    "def reverse(lst):\n",
    "    lst = []\n",
    "    for i in range(len(i)):\n",
    "        lst.append(number[i])\n",
    "    return\n",
    "\n",
    "reverse(number)"
   ]
  }
 ],
 "metadata": {
  "kernelspec": {
   "display_name": "Python 3 (ipykernel)",
   "language": "python",
   "name": "python3"
  },
  "language_info": {
   "codemirror_mode": {
    "name": "ipython",
    "version": 3
   },
   "file_extension": ".py",
   "mimetype": "text/x-python",
   "name": "python",
   "nbconvert_exporter": "python",
   "pygments_lexer": "ipython3",
   "version": "3.9.13"
  }
 },
 "nbformat": 4,
 "nbformat_minor": 5
}
