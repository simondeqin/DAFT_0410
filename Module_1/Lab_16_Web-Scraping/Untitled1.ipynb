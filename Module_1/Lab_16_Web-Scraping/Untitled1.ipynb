{
 "cells": [
  {
   "cell_type": "markdown",
   "id": "4f2c52d7",
   "metadata": {},
   "source": [
    "### Lambda Functions"
   ]
  },
  {
   "cell_type": "code",
   "execution_count": 2,
   "id": "9230f898",
   "metadata": {},
   "outputs": [
    {
     "data": {
      "text/plain": [
       "14"
      ]
     },
     "execution_count": 2,
     "metadata": {},
     "output_type": "execute_result"
    }
   ],
   "source": [
    "def add10_1(x):\n",
    "    return x + 10\n",
    "add10_1(4)"
   ]
  },
  {
   "cell_type": "code",
   "execution_count": 5,
   "id": "5be865e2",
   "metadata": {},
   "outputs": [
    {
     "data": {
      "text/plain": [
       "14"
      ]
     },
     "execution_count": 5,
     "metadata": {},
     "output_type": "execute_result"
    }
   ],
   "source": [
    "add10_2 = lambda x: x + 10\n",
    "add10_2(4)"
   ]
  },
  {
   "cell_type": "code",
   "execution_count": 6,
   "id": "46935be9",
   "metadata": {},
   "outputs": [
    {
     "name": "stdout",
     "output_type": "stream",
     "text": [
      "hello\n"
     ]
    },
    {
     "data": {
      "text/plain": [
       "14"
      ]
     },
     "execution_count": 6,
     "metadata": {},
     "output_type": "execute_result"
    }
   ],
   "source": [
    "def add10_1(x):\n",
    "    print('hello')\n",
    "    return x + 10\n",
    "add10_1(4)"
   ]
  },
  {
   "cell_type": "code",
   "execution_count": null,
   "id": "713b08c5",
   "metadata": {},
   "outputs": [],
   "source": [
    "# lambda cannot do several things"
   ]
  }
 ],
 "metadata": {
  "kernelspec": {
   "display_name": "Python 3 (ipykernel)",
   "language": "python",
   "name": "python3"
  },
  "language_info": {
   "codemirror_mode": {
    "name": "ipython",
    "version": 3
   },
   "file_extension": ".py",
   "mimetype": "text/x-python",
   "name": "python",
   "nbconvert_exporter": "python",
   "pygments_lexer": "ipython3",
   "version": "3.9.13"
  }
 },
 "nbformat": 4,
 "nbformat_minor": 5
}
